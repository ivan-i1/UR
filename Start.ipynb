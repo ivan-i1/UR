{
 "cells": [
  {
   "cell_type": "markdown",
   "metadata": {},
   "source": [
    "# Unconventional or Rich\n",
    "\n",
    "This project starts as an antithesis to the conventional way of writing Python code. It is a collection of Python code snippets that are written in an unconventional way. The goal is to write Python code that is not only unconventional but also readable and maintainable.\n",
    "\n",
    "That is, the code should be unconventional but not cryptic. It should be readable and maintainable. It should be unconventional but not unpythonic.\n",
    "\n",
    "The project is inspired by the [Unconventional Python](\n",
    "https://unconventionalpython.com/) book by [Yasoob Khalid](\n",
    "https://twitter.com/yasoobkhalid). The book is a collection of Python code snippets that are written in an unconventional way. The goal is to write Python code that is not only unconventional but also readable and maintainable.\n",
    "\n",
    "The project is a collection of Python code snippets that are written in an unconventional way. The goal is to write Python code that is not only unconventional but also readable and maintainable.\n",
    "\n",
    "The project is a collection of Python code snippets that are written in an unconventional way. The goal is to write Python code that is not only unconventional but also readable and maintainable.\n",
    "\n",
    "The project is a collection of Python code snippets that are written in an unconventional way. The goal is to write Python code that is not only unconventional but also readable and maintainable.\n",
    "\n",
    "And so forth. Or at least that's the idea. The project is a work in progress and I'm still figuring out what exactly I want to do with it. But I'm excited to see where it goes.\n",
    "\n",
    "At least that is what co pilot has to say about it. For me, starting by the title, starting the projects with a joke or a title that makes you think about other topic but still being related to the original topic is a great way to start something you are not very passionate about. \n",
    "\n",
    "I'm not extremely passionate about finances and I'll probably never be but for this project I must handle that and bring out the best of my capabilities to see it to an end.\n"
   ]
  }
 ],
 "metadata": {
  "language_info": {
   "name": "python"
  }
 },
 "nbformat": 4,
 "nbformat_minor": 2
}
